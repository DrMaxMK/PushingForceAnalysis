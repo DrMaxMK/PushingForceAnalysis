{
 "cells": [
  {
   "cell_type": "code",
   "execution_count": 1,
   "id": "02006b28-720d-45e2-8aec-f0f8816e793a",
   "metadata": {},
   "outputs": [],
   "source": [
    "import numpy as np\n",
    "import matplotlib.pyplot as plt\n",
    "import matplotlib.ticker as ticker\n",
    "import scipy.stats as stats"
   ]
  },
  {
   "cell_type": "markdown",
   "id": "3e2ce846-3960-4994-a99d-9c5c64a8a9ac",
   "metadata": {},
   "source": [
    "# Global Parameters"
   ]
  },
  {
   "cell_type": "code",
   "execution_count": 2,
   "id": "ddc538c1-e15e-4317-9189-b25c3e0de4d3",
   "metadata": {},
   "outputs": [],
   "source": [
    "initial_width = 5.75e-6 # mean of initial widths of the next movies\n",
    "r_mean = np.sqrt(140/np.pi)*1e-6 # 6.68µm from johannes area measurements\n",
    "E_Gel = 2.8e3\n",
    "E_Nucleus = 420"
   ]
  },
  {
   "cell_type": "markdown",
   "id": "4fe974f6-dc18-4424-b6a0-b82e4e9fe36e",
   "metadata": {},
   "source": [
    "# Raw Data as Exports"
   ]
  },
  {
   "cell_type": "markdown",
   "id": "5129303b-a5ef-4b08-aa15-0b36f8d8af0a",
   "metadata": {},
   "source": [
    "    /project/ag-raedler/User/Maximilian.Kreft/CutDrifts/220307/20220307_24h_softdumbbells_XY05_mcherry_1.tif\n",
    "    Maximum Large Timescale slope: 4.992363941585066e-05 um/min\n",
    "    Maximum Short Timescale slope: 0.000330335241800223 um/min\n",
    "    Maximum Short Timescale slope: -0.00019453678819758414 um/min\n",
    "    Maximum Short Timescale slope: 0.00011278666363805154 um/min\n",
    "    Maximum Short Timescale slope: 0.0003281358293929317 um/min\n",
    "    Mean Long Timescale slope: -3.092849525094935e-05 um/min\n",
    "    Mean Short Timescale slope: 0.00015186122473658415 um/min\n",
    "    Mean Short Timescale slope: -0.0001712568087958921 um/min\n",
    "    Mean Short Timescale slope: -6.67858903182624e-05 um/min\n",
    "    Mean Short Timescale slope: 4.490555193212311e-05 um/min\n",
    "    \n",
    "    Tracking Mode 5: t00, t01, t02 = 0, 100, 200"
   ]
  },
  {
   "cell_type": "markdown",
   "id": "b147dd2b-3da7-4a9a-8c5c-8dabafd19244",
   "metadata": {},
   "source": [
    "    /project/ag-raedler/User/Maximilian.Kreft/CutDrifts/220307/20220307_24h_softdumbbells_XY30_mcherry_1tif_shortRange.tif\n",
    "    Maximum Large Timescale slope: 0.00035334549478115536 um/min\n",
    "    Maximum Short Timescale slope: 0.0004136789501289608 um/min\n",
    "    Maximum Short Timescale slope: -0.0005024298024349801 um/min\n",
    "    Maximum Short Timescale slope: -0.0003046360341500519 um/min\n",
    "    Maximum Short Timescale slope: 0.0021389192920737462 um/min\n",
    "    Maximum Short Timescale slope: 0.000907837045957493 um/min\n",
    "    Maximum Short Timescale slope: 0.0009392597378911924 um/min\n",
    "    Mean Long Timescale slope: 0.00017924972112026022 um/min\n",
    "    Mean Short Timescale slope: -0.00012051430208519789 um/min\n",
    "    Mean Short Timescale slope: -0.0005269691437677361 um/min\n",
    "    Mean Short Timescale slope: -0.00047743660341861626 um/min\n",
    "    Mean Short Timescale slope: 0.0009212614926341172 um/min\n",
    "    Mean Short Timescale slope: 0.0003865032395919284 um/min\n",
    "    Mean Short Timescale slope: 0.0004102633960993541 um/min\n",
    "    \n",
    "    Tracking Mode 5: t00, t01, t02 = 0, 100, 180"
   ]
  },
  {
   "cell_type": "markdown",
   "id": "2a8b2a57-4060-4f91-bf19-7a489d67d242",
   "metadata": {},
   "source": [
    "    /project/ag-raedler/User/Maximilian.Kreft/CutDrifts/220307/20220307_24h_softdumbbells_XY09_mcherry_1.tif\n",
    "    Maximum Large Timescale slope: 0.0005678081139486151 um/min\n",
    "    Maximum Short Timescale slope: 0.00025711278322154533 um/min\n",
    "    Maximum Short Timescale slope: -3.820987278827201e-06 um/min\n",
    "    Maximum Short Timescale slope: 0.0003819081542148154 um/min\n",
    "    Maximum Short Timescale slope: 0.00042187129741782603 um/min\n",
    "    Mean Long Timescale slope: 7.620773773368885e-05 um/min\n",
    "    Mean Short Timescale slope: 8.988774570082847e-05 um/min\n",
    "    Mean Short Timescale slope: -5.524831163549316e-06 um/min\n",
    "    Mean Short Timescale slope: 9.436326479918765e-05 um/min\n",
    "    Mean Short Timescale slope: 7.237419279612823e-05 um/min\n",
    "    \n",
    "    Tracking Mode 5: t00, t01, t02 = 0, 190, 450"
   ]
  },
  {
   "cell_type": "markdown",
   "id": "6b047bb7-cdb1-4b13-b119-7d28a37f5a64",
   "metadata": {},
   "source": [
    "    /project/ag-raedler/User/Maximilian.Kreft/CutDrifts/220307/20220307_24h_softdumbbells_XY22_mcherry_1.tif\n",
    "    Maximum Large Timescale slope: 0.00011846084098486504 um/min\n",
    "    Maximum Short Timescale slope: 0.0022037418333219266 um/min\n",
    "    Maximum Short Timescale slope: 0.00024931479658529923 um/min\n",
    "    Maximum Short Timescale slope: 0.00023325940442255088 um/min\n",
    "    Maximum Short Timescale slope: 0.0003415075800265745 um/min\n",
    "    Maximum Short Timescale slope: 0.00029049944025667947 um/min\n",
    "    Maximum Short Timescale slope: 0.0003109297396548763 um/min\n",
    "    Mean Long Timescale slope: 7.012485237469582e-06 um/min\n",
    "    Mean Short Timescale slope: 0.0002547871953396395 um/min\n",
    "    Mean Short Timescale slope: 3.777466213775904e-05 um/min\n",
    "    Mean Short Timescale slope: -2.2985937181052795e-05 um/min\n",
    "    Mean Short Timescale slope: 8.290696948820005e-06 um/min\n",
    "    Mean Short Timescale slope: 1.4417236165227078e-05 um/min\n",
    "    Mean Short Timescale slope: 5.916970442066689e-06 um/min\n",
    "\n",
    "    Tracking Mode 5: t00, t01, t02 = 0, 120, 270"
   ]
  },
  {
   "cell_type": "markdown",
   "id": "694d09fc-60d4-4c7d-8180-60092a703f20",
   "metadata": {},
   "source": [
    "    /project/ag-raedler/User/Maximilian.Kreft/CutDrifts/220211/20220211_softdumbbells_XY17_mcherry_Short-1.tif\n",
    "    Maximum Large Timescale slope: 0.0007093926752301637 um/min\n",
    "    Maximum Short Timescale slope: -0.014464494022133591 um/min\n",
    "    Maximum Short Timescale slope: 0.0013552287447710267 um/min\n",
    "    Maximum Short Timescale slope: 0.0010435687311942596 um/min\n",
    "    Mean Long Timescale slope: 0.00016012659712461548 um/min\n",
    "    Mean Short Timescale slope: -0.014464494022133591 um/min\n",
    "    Mean Short Timescale slope: 0.0004433258271265345 um/min\n",
    "    Mean Short Timescale slope: -4.957432675232786e-05 um/min\n",
    "\n",
    "    Tracking Mode 5: t00, t01, t02 = 0, 100, 270"
   ]
  },
  {
   "cell_type": "markdown",
   "id": "faca6f7d-c87a-40a7-95ef-3b936b0ea1e6",
   "metadata": {},
   "source": [
    "    /project/ag-raedler/User/Maximilian.Kreft/CutDrifts/220416/C2-20220416_24h_ softdumbbells006_XY06_short_GFP.tif  Done\n",
    "    Maximum Large Timescale slope: 0.0004167016048615681 um/min\n",
    "    Maximum Short Timescale slope: 0.0011238587522380628 um/min\n",
    "    Maximum Short Timescale slope: 0.0010319336648396363 um/min\n",
    "    Mean Long Timescale slope: 0.00021561129771042586 um/min\n",
    "    Mean Short Timescale slope: 0.00017258201144852763 um/min\n",
    "    Mean Short Timescale slope: 0.00038879477742584037 um/min\n",
    "    \n",
    "    Tracking Mode 5: t00, t01, t02 = 0, 0, 180 #just one movetrough\n",
    "    "
   ]
  },
  {
   "cell_type": "markdown",
   "id": "aae99c22-5397-48b7-8ce9-c37ba1141211",
   "metadata": {},
   "source": [
    "    /project/ag-raedler/User/Maximilian.Kreft/CutDrifts/220416/C2-20220416_24h_ softdumbbells006_XY02_GFP.tif  Done\n",
    "    Maximum Large Timescale slope: -0.000154166522351024 um/min\n",
    "    Maximum Short Timescale slope: 0.0012436248483408735 um/min\n",
    "    Maximum Short Timescale slope: 0.0008238843161546657 um/min\n",
    "    Maximum Short Timescale slope: 0.00036286915755956656 um/min\n",
    "    Maximum Short Timescale slope: 0.00021817414118790858 um/min\n",
    "    Mean Long Timescale slope: 8.13325058327247e-06 um/min\n",
    "    Mean Short Timescale slope: 0.00012958451329398503 um/min\n",
    "    Mean Short Timescale slope: 0.0001170430267469793 um/min\n",
    "    Mean Short Timescale slope: 6.387574876238876e-05 um/min\n",
    "    Mean Short Timescale slope: 2.316566848970604e-05 um/min\n",
    "\n",
    "    Tracking Mode 5: t00, t01, t02 = [0,280,400]  #\n"
   ]
  },
  {
   "cell_type": "markdown",
   "id": "b02dd0a3-0d01-49c7-801b-1db700473b3a",
   "metadata": {},
   "source": [
    "    /project/ag-moonraedler/MKreft/20220603/cut/20220603_softdumbbells_XY20_EGFP-1.tif  Done\n",
    "    Maximum Large Timescale slope: 3.049937751663473e-05 um/min\n",
    "    Maximum Short Timescale slope: 0.0011079064121422959 um/min\n",
    "    Maximum Short Timescale slope: 0.0005845082333401842 um/min\n",
    "    Maximum Short Timescale slope: 7.201147253747611e-05 um/min\n",
    "    Maximum Short Timescale slope: 6.156833548895348e-05 um/min\n",
    "    Mean Long Timescale slope: 6.998647448097508e-05 um/min\n",
    "    Mean Short Timescale slope: 0.00024110352905744797 um/min\n",
    "    Mean Short Timescale slope: 0.000297654953571173 um/min\n",
    "    Mean Short Timescale slope: 3.488637085529712e-05 um/min\n",
    "    Mean Short Timescale slope: 4.119853854945942e-05 um/min\n",
    "    \n",
    "    Tracking Mode 5: t00, t01, t02 = [0,99,370]\n"
   ]
  },
  {
   "cell_type": "markdown",
   "id": "d7a408aa-6f8c-4023-b987-a541f47a8354",
   "metadata": {},
   "source": [
    "    /project/ag-moonraedler/MKreft/20220603/cut/C2-20220114_softdumbbells_XY03_merged-1_eGFP.tif  Error encountered in Plots so skipped\n",
    "    Maximum Large Timescale slope: 0.00020973948714983967 um/min\n",
    "    Maximum Short Timescale slope: -0.0014616976989317689 um/min\n",
    "    Maximum Short Timescale slope: 0.0004753449359551075 um/min\n",
    "    Maximum Short Timescale slope: -0.00029019087589880586 um/min\n",
    "    Maximum Short Timescale slope: -0.00029268364471701053 um/min\n",
    "    Maximum Short Timescale slope: 0.0006992799901929495 um/min\n",
    "    Maximum Short Timescale slope: -0.0003798030603307832 um/min\n",
    "    Maximum Short Timescale slope: 0.0003818283692494314 um/min\n",
    "\n",
    "    t_neutrals = [120,220,390]"
   ]
  },
  {
   "cell_type": "markdown",
   "id": "bac33438-d29e-4b0e-b52e-f0b8f0b92af6",
   "metadata": {},
   "source": [
    "    /project/ag-moonraedler/MKreft/20220603/cut/C2-20220114_softdumbbells_XY03_merged-2_eGFP.tif  Done\n",
    "    Maximum Large Timescale slope: -0.00020122911986039638 um/min\n",
    "    Maximum Short Timescale slope: 0.0012517028813990112 um/min\n",
    "    Maximum Short Timescale slope: 0.0006637312161051914 um/min\n",
    "    Maximum Short Timescale slope: 0.0008664264289512753 um/min\n",
    "    Maximum Short Timescale slope: 0.00056324208010961 um/min\n",
    "    Maximum Short Timescale slope: 0.00035850627418601317 um/min\n",
    "    Maximum Short Timescale slope: 0.0005922755482456631 um/min\n",
    "    Maximum Short Timescale slope: 0.00035964179435348236 um/min\n",
    "    Maximum Short Timescale slope: -6.55977731002608e-05 um/min\n",
    "    Maximum Short Timescale slope: 0.0001050791381840801 um/min\n",
    "    Maximum Short Timescale slope: 1.5437536627944204e-05 um/min\n",
    "    Maximum Short Timescale slope: -4.351599399756011e-05 um/min\n",
    "    Mean Long Timescale slope: -9.134490054618292e-05 um/min\n",
    "    Mean Short Timescale slope: 0.00016246910971783773 um/min\n",
    "    Mean Short Timescale slope: 0.0001009734315225937 um/min\n",
    "    Mean Short Timescale slope: 0.00027927505799824027 um/min\n",
    "    Mean Short Timescale slope: 0.0001367506246405156 um/min\n",
    "    Mean Short Timescale slope: 0.00010022553998604104 um/min\n",
    "    Mean Short Timescale slope: 0.00015264114444848282 um/min\n",
    "    Mean Short Timescale slope: 0.0001472598826819891 um/min\n",
    "    Mean Short Timescale slope: -7.873714523112662e-05 um/min\n",
    "    Mean Short Timescale slope: 4.123968117181795e-05 um/min\n",
    "    Mean Short Timescale slope: -1.0592171946502197e-05 um/min\n",
    "    Mean Short Timescale slope: -4.8291331603020103e-05 um/min\n",
    "    t_neutrals = [0,158,212]\n",
    "    only use long scale values since the discplacement was very low in this video\n"
   ]
  },
  {
   "cell_type": "markdown",
   "id": "5422a400-8953-4314-be87-a48834fd3bd5",
   "metadata": {},
   "source": [
    "    /project/ag-moonraedler/MKreft/20220603/cut/C2-20220603_softdumbbells_XY07_merged-1_eGFp.tif\n",
    "    Maximum Large Timescale slope: 0.000769327357886958 um/min\n",
    "    Maximum Short Timescale slope: -0.0006336937639243081 um/min\n",
    "    Maximum Short Timescale slope: -8.19869480653971e-05 um/min\n",
    "    Maximum Short Timescale slope: 0.00020759610914091044 um/min\n",
    "    Maximum Short Timescale slope: -0.0002127640947675547 um/min\n",
    "    Mean Long Timescale slope: 0.00020746462358458686 um/min\n",
    "    Mean Short Timescale slope: 2.8550545686489707e-05 um/min\n",
    "    Mean Short Timescale slope: 0.0002534663921758194 um/min\n",
    "    Mean Short Timescale slope: 0.00010120193348983957 um/min\n",
    "    Mean Short Timescale slope: 4.704303170893659e-05 um/min\n",
    "    \n",
    "    t_neutrals = [45,177,263]"
   ]
  },
  {
   "cell_type": "markdown",
   "id": "676c7b8a-11a4-49ce-9fb1-53ef8bedfd00",
   "metadata": {},
   "source": [
    "# Data as Arrays"
   ]
  },
  {
   "cell_type": "code",
   "execution_count": 1,
   "id": "7c68228e-2c5c-40c0-94a0-32856cd4b968",
   "metadata": {},
   "outputs": [],
   "source": [
    "# Here i just copy the E(t) data into these arrays\n",
    "# this of course looks ridiculous and it is\n",
    "# I kept is to get a feeling of these numbers and recognise outliers (especially in the short term max_s mean_s data)"
   ]
  },
  {
   "cell_type": "code",
   "execution_count": 3,
   "id": "35b9e12e-53b1-49ea-83fb-d612c706ceeb",
   "metadata": {},
   "outputs": [],
   "source": [
    "max_l = [4.992363941585066e-05, 0.00035334549478115536, 0.0005678081139486151,  0.00011846084098486504, 0.0007093926752301637, 0.0004167016048615681, -0.000154166522351024, 3.049937751663473e-05, -0.00020122911986039638, 0.00017988265783857113]\n",
    "max_s = [0.000330335241800223, -0.00019453678819758414, 0.00011278666363805154, 0.0003281358293929317, 0.0004136789501289608, -0.0005024298024349801, -0.0003046360341500519, 0.0021389192920737462, 0.000907837045957493, 0.0009392597378911924, 0.00025711278322154533, -3.820987278827201e-06, 0.0003819081542148154, 0.00042187129741782603, 0.0022037418333219266, 0.00024931479658529923, 0.00023325940442255088, 0.0003415075800265745, 0.00029049944025667947, 0.0003109297396548763, 0.0013552287447710267, 0.0010435687311942596, 0.0011238587522380628, 0.0010319336648396363, 0.0012436248483408735,0.0008238843161546657,0.00036286915755956656,0.00021817414118790858, 0.0011079064121422959, 0.0005845082333401842, 7.201147253747611e-05, 6.156833548895348e-05, 0.00020973948714983967,-0.0014616976989317689,0.0004753449359551075,-0.00029019087589880586,-0.00029268364471701053,0.0006992799901929495,-0.0003798030603307832,0.0003818283692494314,-0.0006336937639243081,-8.19869480653971e-05,0.00020759610914091044,-0.0002127640947675547]\n",
    "mean_l = [-3.092849525094935e-05, 0.00017924972112026022, 7.620773773368885e-05, 7.012485237469582e-06, 0.00016012659712461548, 0.00021561129771042586, 8.13325058327247e-06, 6.998647448097508e-05, -9.134490054618292e-05, 0.00013072830711089584,0.00020746462358458686]\n",
    "mean_s = [ 0.00015186122473658415,  -0.0001712568087958921,  -6.67858903182624e-05,  4.490555193212311e-05,  -0.00012051430208519789,  -0.0005269691437677361,  -0.00047743660341861626,  0.0009212614926341172,  0.0003865032395919284,  0.0004102633960993541, 8.988774570082847e-05,  -5.524831163549316e-06,  9.436326479918765e-05,  7.237419279612823e-05, 0.0002547871953396395,  3.777466213775904e-05,  -2.2985937181052795e-05,  8.290696948820005e-06,  1.4417236165227078e-05,  5.916970442066689e-06,  0.0004433258271265345,  -4.957432675232786e-05,  0.00017258201144852763, 0.00038879477742584037, 0.0001170430267469793,6.387574876238876e-05, 2.316566848970604e-05, 0.00024110352905744797,0.000297654953571173,3.488637085529712e-05,4.119853854945942e-05, 2.8550545686489707e-05,0.0002534663921758194,0.00010120193348983957 ,4.704303170893659e-05]\n",
    "all_together = np.array(max_l + max_s + mean_l + mean_s)*60 # per hour not per minute anymoore\n",
    "max_l = np.array(max_l)*60\n",
    "max_s =  np.array(max_s)*60\n",
    "mean_l =  np.array(mean_l)*60\n",
    "mean_s = np.array(mean_s)*60"
   ]
  },
  {
   "cell_type": "markdown",
   "id": "819427b8-0648-493b-9d2b-a89f61bc01c2",
   "metadata": {},
   "source": [
    "# Volume Growth Effect"
   ]
  },
  {
   "cell_type": "code",
   "execution_count": 4,
   "id": "85d032b9-2636-41e5-a67f-28e1f0814a7a",
   "metadata": {},
   "outputs": [],
   "source": [
    "#Johannes Given Data\n",
    "# Area =  140 +- 13 um2 \n",
    "# Radius Grwoth Rate 0.015 +- 0.008 [µm/h]"
   ]
  },
  {
   "cell_type": "code",
   "execution_count": 6,
   "id": "2049a9b9-42c8-40ec-b617-a470d65bccf9",
   "metadata": {},
   "outputs": [],
   "source": [
    "def gel_displacement(E_gel=2.8e3, bridgewidth_initial=7e-6, E_ball=420, D_initial=14e-6, nu_gel=0.5, nu_ball=0.5):\n",
    "    Eb = E_ball / (1 - nu_ball**2) # prefactors\n",
    "    Eg = E_gel / (1 - nu_gel**2)\n",
    "    a = Eb / (Eb + Eg)\n",
    "    disp = a * (D_initial / 2 - bridgewidth_initial / 2)\n",
    "    #print(a/2)\n",
    "    return disp\n",
    "\n",
    "def gel_displacement_rate(E_gel=2.8e3, bridgewidth_initial=7e-6, E_ball=420, D_initial=14e-6, D_growth_rate=0.03, nu_gel=0.5, nu_ball=0.5):\n",
    "    Eb = E_ball / (1 - nu_ball**2) # prefactors\n",
    "    Eg = E_gel / (1 - nu_gel**2)\n",
    "    a = Eb / (Eb + Eg)\n",
    "    disp_r = a * (D_growth_rate / 2)\n",
    "    print(f\"a/2 = {a/2}\")\n",
    "    return disp_r"
   ]
  },
  {
   "cell_type": "code",
   "execution_count": 7,
   "id": "fd22df5d-0245-4d22-970a-84e5012f98c3",
   "metadata": {},
   "outputs": [
    {
     "name": "stdout",
     "output_type": "stream",
     "text": [
      "-3.7499912927202016e-07\n",
      "a/2 = 0.06521739130434781\n",
      "a/2 = 0.06521739130434781\n",
      "0.01306091969633063 0.006965823838043002\n"
     ]
    }
   ],
   "source": [
    "r_growth_rate_per_h = 0.015\n",
    "r_growth_rate_per_h_std = 0.008\n",
    "\n",
    "print(gel_displacement(E_Gel, initial_width, E_Nucleus, r_mean*2e-6)) # \n",
    "\n",
    "pred = gel_displacement_rate(E_Gel, initial_width, E_Nucleus,  r_mean*2, 2*r_mean*r_growth_rate_per_h) * 1e6 # µm per hour growth\n",
    "pred_err = gel_displacement_rate(E_Gel, initial_width, E_Nucleus,  r_mean*2, 2*r_mean*r_growth_rate_per_h_std) *1e6 \n",
    "\n",
    "print(pred, pred_err)\n",
    "# 3%/h of Area growth would translate to 0.019µm/min radius growth and thus 0.0027 µm/min displacement growth "
   ]
  },
  {
   "cell_type": "code",
   "execution_count": 8,
   "id": "3c24c0f6-fd74-49c8-ba2a-8c3a3179508a",
   "metadata": {},
   "outputs": [],
   "source": [
    "# playing with these numbers\n",
    "\n",
    "#pred = gel_displacement_rate(E_Gel, initial_width, E_Nucleus,  r_mean*2, 2*r_growth_rate_per_h*1e-6) * 1e6 *2# µm per hour growth\n",
    "#pred_err = gel_displacement_rate(E_Gel, initial_width, E_Nucleus,  r_mean*2, 2*r_growth_rate_per_h_std*1e-6) *1e6 *2\n",
    "\n",
    "#print(pred, pred_err)"
   ]
  },
  {
   "cell_type": "markdown",
   "id": "9964245f-a955-47fe-9d56-3014801bf3c7",
   "metadata": {},
   "source": [
    "# Visualisation"
   ]
  },
  {
   "cell_type": "code",
   "execution_count": 9,
   "id": "9c9f6b7a-0f2f-43ba-991e-6dc4edcb14d7",
   "metadata": {},
   "outputs": [],
   "source": [
    "data = [pred, max_l, mean_l, max_s, mean_s]\n",
    "means = [np.mean(i) for i in data]\n",
    "medians = [np.median(i) for i in data]\n",
    "\n",
    "names = [\"Prediction\", 'max', \"mean\", \"max\", \"mean\"]\n",
    "errs = [pred_err, max_l.std(), mean_l.std(), max_s.std(), mean_s.std()]\n",
    "x_pos = np.arange(len(names))"
   ]
  },
  {
   "cell_type": "code",
   "execution_count": 10,
   "id": "76bb6274-18af-46a9-97f5-33198986480f",
   "metadata": {},
   "outputs": [
    {
     "data": {
      "image/png": "[encoded data removed]",
      "text/plain": [
       "<Figure size 432x288 with 1 Axes>"
      ]
     },
     "metadata": {
      "needs_background": "light"
     },
     "output_type": "display_data"
    }
   ],
   "source": [
    "fig, ax = plt.subplots()\n",
    "ax.plot(x_pos+1, means, label=\"means\")\n",
    "ax.plot(x_pos+1, medians, label=\"medians\")\n",
    "ax.violinplot(data)\n",
    "ax.set_xticks(x_pos+1)\n",
    "ax.set_xticklabels(names)\n",
    "ax.set_ylabel('Slope of displacement over time [µm/h]')\n",
    "ax.set_title(\"checking short term disp(t) dist\")\n",
    "ax.legend(loc=\"lower left\")\n",
    "fig.savefig('E_of_t_violins.png')"
   ]
  },
  {
   "cell_type": "code",
   "execution_count": 11,
   "id": "3a7977c5-472d-4e45-b5c2-9cc79b0b52ef",
   "metadata": {},
   "outputs": [
    {
     "data": {
      "image/png": "[encoded data removed]",
      "text/plain": [
       "<Figure size 432x288 with 2 Axes>"
      ]
     },
     "metadata": {
      "needs_background": "light"
     },
     "output_type": "display_data"
    }
   ],
   "source": [
    "# Build the plot\n",
    "fig, ax = plt.subplots()\n",
    "ax.bar(x_pos, means, yerr=errs, align='center', alpha=0.5, ecolor='black', capsize=10)\n",
    "ax.set_ylabel('Slope of displacement over time [µm/h]')\n",
    "ax.set_xticks(x_pos)\n",
    "ax.set_xticklabels(names)\n",
    "ax.set_title('E(t)')\n",
    "ax.yaxis.grid(True)\n",
    "\n",
    "# Second X-axis\n",
    "ax2 = ax.twiny()\n",
    "\n",
    "ax2.spines[\"bottom\"].set_position((\"axes\", -0.10))\n",
    "ax2.tick_params('both', length=0, width=0, which='minor')\n",
    "ax2.tick_params('both', direction='in', which='major')\n",
    "ax2.xaxis.set_ticks_position(\"bottom\")\n",
    "ax2.xaxis.set_label_position(\"bottom\")\n",
    "\n",
    "ax2.set_xticks([0.25, 0.63, 1.0])\n",
    "ax2.xaxis.set_major_formatter(ticker.NullFormatter())\n",
    "ax2.xaxis.set_minor_locator(ticker.FixedLocator([0.45, 0.8]))\n",
    "ax2.xaxis.set_minor_formatter(ticker.FixedFormatter(['long time scale', 'short time scale']))\n",
    "\n",
    "# Save the figure and show\n",
    "plt.tight_layout()\n",
    "plt.savefig('E_of_t_barplot_means.png')\n",
    "plt.show()"
   ]
  },
  {
   "cell_type": "markdown",
   "id": "fd485f07-145e-46cc-ab47-2911076cfd2b",
   "metadata": {},
   "source": [
    "## for the Presentation"
   ]
  },
  {
   "cell_type": "code",
   "execution_count": 12,
   "id": "ad4e0c9f-7823-4269-b454-2ef817c0b3a6",
   "metadata": {},
   "outputs": [],
   "source": [
    "datapres1 = [max_l, max_s]\n",
    "meanspres1 = [np.mean(i) for i in datapres1]\n",
    "namespres1 = [\"Long time scale\", \"Short time scale\"]\n",
    "errspres1 = [max_l.std(), max_s.std()]\n",
    "x_pospres1 = np.arange(len(namespres1))\n",
    "\n",
    "datapres2 = [max_l, max_s, pred]\n",
    "meanspres2 = [np.mean(i) for i in datapres2]\n",
    "namespres2 = [\"Long time scale\", \"Short time scale\", \"Theoretical prediction\"]\n",
    "errspres2 = [max_l.std(), max_s.std(), pred_err]\n",
    "x_pospres2 = np.arange(len(namespres2))\n",
    "\n",
    "\n",
    "datapres3 = [pred, max_l, max_s]\n",
    "meanspres3 = [np.mean(i) for i in datapres3]\n",
    "namespres3 = [\"Theoretical prediction\", \"Long time scale\", \"Short time scale\"]\n",
    "errspres3 = [pred_err, max_l.std(), max_s.std()]\n",
    "x_pospres3 = np.arange(len(namespres3))"
   ]
  },
  {
   "cell_type": "code",
   "execution_count": 13,
   "id": "26055fd2-64ce-4e55-94bd-3c5ff5fe4159",
   "metadata": {},
   "outputs": [],
   "source": [
    "from matplotlib.markers import TICKDOWN\n",
    "\n",
    "def significance_bar(start,end,height,displaystring,linewidth = 1.2,markersize = 8,boxpad  =0.3,fontsize = 15,color = 'k'):\n",
    "    # draw a line with downticks at the ends\n",
    "    plt.plot([start,end],[height]*2,'-',color = color,lw=linewidth,marker = TICKDOWN,markeredgewidth=linewidth,markersize = markersize)\n",
    "    # draw the text with a bounding box covering up the line\n",
    "    plt.text(0.5*(start+end),height,displaystring,ha = 'center',va='center',bbox=dict(facecolor='1.', edgecolor='none',boxstyle='Square,pad='+str(boxpad)),size = fontsize)\n"
   ]
  },
  {
   "cell_type": "code",
   "execution_count": 14,
   "id": "453b68ff-e091-45ad-a726-8fc7161841e2",
   "metadata": {},
   "outputs": [
    {
     "data": {
      "image/png": "[encoded data removed]",
      "text/plain": [
       "<Figure size 432x288 with 1 Axes>"
      ]
     },
     "metadata": {
      "needs_background": "light"
     },
     "output_type": "display_data"
    }
   ],
   "source": [
    "# Build the plot\n",
    "fig, ax = plt.subplots()\n",
    "ax.bar(x_pospres1, meanspres1, yerr=errspres1, align='center', alpha=0.5, ecolor='black', capsize=10)\n",
    "ax.set_ylabel('Slope of displacement over time [µm/h]')\n",
    "ax.set_xticks(x_pospres1)\n",
    "ax.set_xticklabels(namespres1)\n",
    "#ax.set_title('disp(t)')\n",
    "#ax.set_ylim(-0.015*60, 5)\n",
    "ax.yaxis.grid(True)\n",
    "\n",
    "\n",
    "pvals = [stats.mannwhitneyu(meanspres1[0], meanspres1[1])[1]]\n",
    "offset  =0.03\n",
    "for i,p in enumerate(pvals):\n",
    "    if p>=0.05:\n",
    "        displaystring = r'n.s.'\n",
    "    elif p<0.0001:\n",
    "        displaystring = r'***'\n",
    "    elif p<0.001:\n",
    "        displaystring = r'**'\n",
    "    else:\n",
    "        displaystring = r'*'\n",
    "    \n",
    "    bar_width=0.45\n",
    "    height = offset +  max(meanspres1) \n",
    "    bar_centers = x_pospres1[i] + np.array([0,2])*bar_width\n",
    "    significance_bar(bar_centers[0],bar_centers[1],height,displaystring)\n",
    "\n",
    "\n",
    "# Save the figure and show\n",
    "plt.tight_layout()\n",
    "plt.savefig('E_of_t_barplot_pres1.png')\n",
    "plt.show()"
   ]
  },
  {
   "cell_type": "code",
   "execution_count": 15,
   "id": "edf5c8e8-0098-48b0-9f94-b27cb9ebc244",
   "metadata": {},
   "outputs": [
    {
     "data": {
      "image/png": "[encoded data removed]",
      "text/plain": [
       "<Figure size 432x288 with 1 Axes>"
      ]
     },
     "metadata": {
      "needs_background": "light"
     },
     "output_type": "display_data"
    }
   ],
   "source": [
    "fig, ax = plt.subplots()\n",
    "ax.bar(x_pospres2, meanspres2, yerr=errspres2, align='center', alpha=0.5, ecolor='black', capsize=10)\n",
    "ax.set_ylabel('Slope of displacement over time [µm/min]')\n",
    "ax.set_xticks(x_pospres2)\n",
    "ax.set_xticklabels(namespres2)\n",
    "#ax.set_title('E(t)')\n",
    "#ax.set_ylim(-0.015*60, 5)\n",
    "\n",
    "ax.yaxis.grid(True)\n",
    "\n",
    "pvals = [stats.mannwhitneyu(meanspres2[0], meanspres2[1])[1], stats.mannwhitneyu(meanspres2[1], meanspres2[2])[1]]\n",
    "offset  =0.06\n",
    "for i,p in enumerate(pvals):\n",
    "    if p>=0.05:\n",
    "        displaystring = r'n.s.'\n",
    "    elif p<0.0001:\n",
    "        displaystring = r'***'\n",
    "    elif p<0.001:\n",
    "        displaystring = r'**'\n",
    "    else:\n",
    "        displaystring = r'*'\n",
    "    \n",
    "    bar_width=0.45\n",
    "    height = offset +  max(meanspres2) \n",
    "    bar_centers = x_pospres2[i] + np.array([0.2,2]) * bar_width\n",
    "    significance_bar(bar_centers[0],bar_centers[1], height, displaystring)\n",
    "significance_bar(0,2, height+0.02, r'n.s') # calculated somewhere else and yea yea not aautomated\n",
    "\n",
    "# Save the figure and show\n",
    "plt.tight_layout()\n",
    "plt.savefig('E_of_t_barplot_pres2.png')\n",
    "plt.show()"
   ]
  },
  {
   "cell_type": "code",
   "execution_count": 16,
   "id": "a83a37c9-e191-49d1-8c71-78fd0610dd81",
   "metadata": {},
   "outputs": [
    {
     "data": {
      "image/png": "[encoded data removed]",
      "text/plain": [
       "<Figure size 432x288 with 1 Axes>"
      ]
     },
     "metadata": {
      "needs_background": "light"
     },
     "output_type": "display_data"
    }
   ],
   "source": [
    "fig, ax = plt.subplots()\n",
    "ax.bar(x_pospres3, meanspres3, yerr=errspres3, align='center', alpha=0.5, ecolor='black', capsize=10)\n",
    "ax.set_ylabel('Slope of displacement over time [µm/h]')\n",
    "ax.set_xticks(x_pospres3)\n",
    "ax.set_xticklabels(namespres3)\n",
    "#ax.set_ylim(-0.015*60, 5)\n",
    "#ax.set_title('E(t)')\n",
    "ax.yaxis.grid(True)\n",
    "\n",
    "pvals = [stats.mannwhitneyu(meanspres2[0], meanspres2[1])[1], stats.mannwhitneyu(meanspres2[1], meanspres2[2])[1]]\n",
    "offset  =0.05\n",
    "for i,p in enumerate(pvals):\n",
    "    if p>=0.05:\n",
    "        displaystring = r'n.s.'\n",
    "    elif p<0.0001:\n",
    "        displaystring = r'***'\n",
    "    elif p<0.001:\n",
    "        displaystring = r'**'\n",
    "    else:\n",
    "        displaystring = r'*'\n",
    "    \n",
    "    bar_width=0.45\n",
    "    height = offset +  max(meanspres2) \n",
    "    bar_centers = x_pospres2[i] + np.array([0.2,2]) * bar_width\n",
    "    significance_bar(bar_centers[0],bar_centers[1], height, displaystring)\n",
    "significance_bar(0,2, height+0.02, r'n.s') # calculated somewhere else and yea yea not aautomated\n",
    "\n",
    "# Save the figure and show\n",
    "plt.tight_layout()\n",
    "plt.savefig('E_of_t_barplot_pres3.png')\n",
    "plt.show()"
   ]
  },
  {
   "cell_type": "code",
   "execution_count": 20,
   "id": "3febb41a-f299-4b4d-8147-2ceef3dc810e",
   "metadata": {},
   "outputs": [
    {
     "name": "stdout",
     "output_type": "stream",
     "text": [
      "[0.01306091969633063, 0.012423712574196022, 0.022507881535623775]\n",
      "[0.006965823838043002, 0.0170706577807095, 0.040068281610101196]\n"
     ]
    }
   ],
   "source": [
    "print(meanspres3)\n",
    "print(errspres3)"
   ]
  },
  {
   "cell_type": "markdown",
   "id": "b936664a-2fa3-48ec-bd24-af9b0567b992",
   "metadata": {},
   "source": [
    "# SIgnificance Tests"
   ]
  },
  {
   "cell_type": "code",
   "execution_count": 18,
   "id": "189b70f6-2c48-4f52-a5a7-b93490ae7625",
   "metadata": {},
   "outputs": [
    {
     "data": {
      "text/plain": [
       "MannwhitneyuResult(statistic=59.0, pvalue=0.8316831683168321)"
      ]
     },
     "execution_count": 18,
     "metadata": {},
     "output_type": "execute_result"
    }
   ],
   "source": [
    "stats.mannwhitneyu(pred, all_together)"
   ]
  },
  {
   "cell_type": "code",
   "execution_count": 19,
   "id": "c2886113-0ea1-4db4-8232-eb81047c7aaf",
   "metadata": {},
   "outputs": [
    {
     "data": {
      "text/plain": [
       "MannwhitneyuResult(statistic=16.0, pvalue=0.7555555555555553)"
      ]
     },
     "execution_count": 19,
     "metadata": {},
     "output_type": "execute_result"
    }
   ],
   "source": [
    "stats.mannwhitneyu(pred, max_s)"
   ]
  },
  {
   "cell_type": "code",
   "execution_count": null,
   "id": "285fa98f-859a-426e-b79e-5ce26612d1d6",
   "metadata": {},
   "outputs": [],
   "source": []
  }
 ],
 "metadata": {
  "kernelspec": {
   "display_name": "Python 3",
   "language": "python",
   "name": "python3"
  },
  "language_info": {
   "codemirror_mode": {
    "name": "ipython",
    "version": 3
   },
   "file_extension": ".py",
   "mimetype": "text/x-python",
   "name": "python",
   "nbconvert_exporter": "python",
   "pygments_lexer": "ipython3",
   "version": "3.9.7"
  }
 },
 "nbformat": 4,
 "nbformat_minor": 5
}
