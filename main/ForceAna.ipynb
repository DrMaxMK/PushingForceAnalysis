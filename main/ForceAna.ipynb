{
 "cells": [
  {
   "cell_type": "markdown",
   "id": "0322b0ef-3cee-400c-9fe4-e161c4943b67",
   "metadata": {},
   "source": [
    "# imports"
   ]
  },
  {
   "cell_type": "code",
   "execution_count": 1,
   "id": "865c2154-197e-40ce-b2b9-0587df163b7b",
   "metadata": {},
   "outputs": [],
   "source": [
    "import numpy as np\n",
    "import matplotlib.pyplot as plt\n",
    "import matplotlib.ticker as ticker\n",
    "import scipy.stats as stats\n",
    "import pandas as pd"
   ]
  },
  {
   "cell_type": "markdown",
   "id": "879419b9-d04c-443a-820f-55ef5233c81c",
   "metadata": {},
   "source": [
    "# Helper Functions"
   ]
  },
  {
   "cell_type": "code",
   "execution_count": 2,
   "id": "c7b29cfb-6ede-4ab7-91db-edeb7db5432f",
   "metadata": {},
   "outputs": [],
   "source": [
    "def significantStr(num):\n",
    "    if num<0.05:\n",
    "        return \"<0.5\"\n",
    "    else:\n",
    "        return \">0.5\""
   ]
  },
  {
   "cell_type": "markdown",
   "id": "0302be07-35b3-4c52-b793-0cd4da14c16b",
   "metadata": {},
   "source": [
    "# Data Import"
   ]
  },
  {
   "cell_type": "markdown",
   "id": "1d4b90ed-42c2-49ef-ab08-2e89ca00ed9d",
   "metadata": {},
   "source": [
    "##  with all the files"
   ]
  },
  {
   "cell_type": "code",
   "execution_count": 3,
   "id": "0ce41cb7-0277-4fb2-8204-6c99e3e8ad54",
   "metadata": {},
   "outputs": [],
   "source": [
    "loc = \"/project/ag-raedler/User/Maximilian.Kreft/CutDrifts/forces/\""
   ]
  },
  {
   "cell_type": "code",
   "execution_count": 4,
   "id": "cd5f15ea-671c-470d-895d-1f47943b2c3d",
   "metadata": {},
   "outputs": [],
   "source": [
    "boolean = lambda df: df.replace({\"True\":True, \"False\":False, \"0\":False})"
   ]
  },
  {
   "cell_type": "code",
   "execution_count": 6,
   "id": "7e0c23b8-c46d-4f1f-9cd6-1548e956a233",
   "metadata": {},
   "outputs": [],
   "source": [
    "pd1 = boolean(pd.read_csv(loc + \"20220307_24h_softdumbbells_XY30_mcherry_1tif_shortRange.tif_forces.txt\", index_col=\"frame_index\"))\n",
    "pd2 = boolean(pd.read_csv(loc + \"20220307_24h_softdumbbells_XY05_mcherry_1.tif_forces.txt\", index_col=\"frame_index\"))\n",
    "pd3 = boolean(pd.read_csv(loc + \"20220307_24h_softdumbbells_XY09_mcherry_1.tif_forces.txt\", index_col=\"frame_index\"))\n",
    "pd4 = boolean(pd.read_csv(loc + \"20220307_24h_softdumbbells_XY22_mcherry_1.tif_forces.txt\", index_col=\"frame_index\"))\n",
    "pd5 = boolean(pd.read_csv(loc + \"20220211_softdumbbells_XY17_mcherry_Short-1.tif_forces.txt\", index_col=\"frame_index\"))\n",
    "pd6 = boolean(pd.read_csv(loc + \"C2-20220114_softdumbbells_XY03_merged-1_eGFP.tif_forces.txt\", index_col=\"frame_index\"))\n",
    "pd7 = boolean(pd.read_csv(loc + \"C2-20220603_softdumbbells_XY07_merged-1_eGFp.tif_forces.txt\", index_col=\"frame_index\")) # outlier data\n",
    "pds = [pd1, pd2, pd3, pd4, pd5, pd6, pd7]\n",
    "middle_ranges = [[180, 240],[180, 240],[160, 250],[190, 260],[180, 250],[180, 250],[160, 240]] # inside the bridge\n",
    "# same as in PIV this could be automated from the .txt files\n"
   ]
  },
  {
   "cell_type": "code",
   "execution_count": 26,
   "id": "315ccd86-11ce-4424-a580-6089fc5ffb6c",
   "metadata": {},
   "outputs": [
    {
     "data": {
      "text/html": [
       "<div>\n",
       "<style scoped>\n",
       "    .dataframe tbody tr th:only-of-type {\n",
       "        vertical-align: middle;\n",
       "    }\n",
       "\n",
       "    .dataframe tbody tr th {\n",
       "        vertical-align: top;\n",
       "    }\n",
       "\n",
       "    .dataframe thead th {\n",
       "        text-align: right;\n",
       "    }\n",
       "</style>\n",
       "<table border=\"1\" class=\"dataframe\">\n",
       "  <thead>\n",
       "    <tr style=\"text-align: right;\">\n",
       "      <th></th>\n",
       "      <th>y</th>\n",
       "      <th>x</th>\n",
       "      <th>mass</th>\n",
       "      <th>size</th>\n",
       "      <th>ecc</th>\n",
       "      <th>signal</th>\n",
       "      <th>raw_mass</th>\n",
       "      <th>ep</th>\n",
       "      <th>frame</th>\n",
       "      <th>particle</th>\n",
       "      <th>dy</th>\n",
       "      <th>dx</th>\n",
       "      <th>fx</th>\n",
       "      <th>fy</th>\n",
       "      <th>in_bridge</th>\n",
       "      <th>x_nucleus</th>\n",
       "      <th>y_nucleus</th>\n",
       "    </tr>\n",
       "  </thead>\n",
       "  <tbody>\n",
       "    <tr>\n",
       "      <th>0</th>\n",
       "      <td>110.223724</td>\n",
       "      <td>257.924148</td>\n",
       "      <td>10388.554271</td>\n",
       "      <td>2.050438</td>\n",
       "      <td>0.297139</td>\n",
       "      <td>675.446104</td>\n",
       "      <td>103008.0</td>\n",
       "      <td>0.042943</td>\n",
       "      <td>0</td>\n",
       "      <td>1</td>\n",
       "      <td>0.000000</td>\n",
       "      <td>0.000000</td>\n",
       "      <td>0.000000</td>\n",
       "      <td>0.000000</td>\n",
       "      <td>False</td>\n",
       "      <td>88.115143</td>\n",
       "      <td>77.732608</td>\n",
       "    </tr>\n",
       "    <tr>\n",
       "      <th>1</th>\n",
       "      <td>108.947531</td>\n",
       "      <td>198.539162</td>\n",
       "      <td>15263.449743</td>\n",
       "      <td>1.838732</td>\n",
       "      <td>0.269567</td>\n",
       "      <td>1356.513291</td>\n",
       "      <td>110974.0</td>\n",
       "      <td>0.038816</td>\n",
       "      <td>0</td>\n",
       "      <td>2</td>\n",
       "      <td>-0.020280</td>\n",
       "      <td>-0.123621</td>\n",
       "      <td>-0.199447</td>\n",
       "      <td>-0.013252</td>\n",
       "      <td>False</td>\n",
       "      <td>88.115143</td>\n",
       "      <td>77.732608</td>\n",
       "    </tr>\n",
       "    <tr>\n",
       "      <th>2</th>\n",
       "      <td>102.420054</td>\n",
       "      <td>246.134577</td>\n",
       "      <td>18096.850797</td>\n",
       "      <td>2.280875</td>\n",
       "      <td>0.221035</td>\n",
       "      <td>1083.203698</td>\n",
       "      <td>126540.0</td>\n",
       "      <td>0.032678</td>\n",
       "      <td>0</td>\n",
       "      <td>4</td>\n",
       "      <td>0.409037</td>\n",
       "      <td>0.680514</td>\n",
       "      <td>2.575993</td>\n",
       "      <td>1.200419</td>\n",
       "      <td>False</td>\n",
       "      <td>88.115143</td>\n",
       "      <td>77.732608</td>\n",
       "    </tr>\n",
       "    <tr>\n",
       "      <th>3</th>\n",
       "      <td>100.442433</td>\n",
       "      <td>223.277370</td>\n",
       "      <td>11103.930889</td>\n",
       "      <td>1.888326</td>\n",
       "      <td>0.164916</td>\n",
       "      <td>867.770450</td>\n",
       "      <td>85052.0</td>\n",
       "      <td>0.056482</td>\n",
       "      <td>0</td>\n",
       "      <td>5</td>\n",
       "      <td>-0.045341</td>\n",
       "      <td>-0.050747</td>\n",
       "      <td>-0.052458</td>\n",
       "      <td>-0.044302</td>\n",
       "      <td>False</td>\n",
       "      <td>88.115143</td>\n",
       "      <td>77.732608</td>\n",
       "    </tr>\n",
       "    <tr>\n",
       "      <th>4</th>\n",
       "      <td>99.253419</td>\n",
       "      <td>133.905398</td>\n",
       "      <td>7137.194396</td>\n",
       "      <td>1.990549</td>\n",
       "      <td>0.070683</td>\n",
       "      <td>497.903126</td>\n",
       "      <td>70002.0</td>\n",
       "      <td>0.076768</td>\n",
       "      <td>0</td>\n",
       "      <td>9</td>\n",
       "      <td>-0.133231</td>\n",
       "      <td>0.049640</td>\n",
       "      <td>0.050750</td>\n",
       "      <td>-0.223149</td>\n",
       "      <td>False</td>\n",
       "      <td>88.115143</td>\n",
       "      <td>77.732608</td>\n",
       "    </tr>\n",
       "    <tr>\n",
       "      <th>...</th>\n",
       "      <td>...</td>\n",
       "      <td>...</td>\n",
       "      <td>...</td>\n",
       "      <td>...</td>\n",
       "      <td>...</td>\n",
       "      <td>...</td>\n",
       "      <td>...</td>\n",
       "      <td>...</td>\n",
       "      <td>...</td>\n",
       "      <td>...</td>\n",
       "      <td>...</td>\n",
       "      <td>...</td>\n",
       "      <td>...</td>\n",
       "      <td>...</td>\n",
       "      <td>...</td>\n",
       "      <td>...</td>\n",
       "      <td>...</td>\n",
       "    </tr>\n",
       "    <tr>\n",
       "      <th>103725</th>\n",
       "      <td>35.124695</td>\n",
       "      <td>266.776001</td>\n",
       "      <td>189197.122041</td>\n",
       "      <td>1.517636</td>\n",
       "      <td>0.140053</td>\n",
       "      <td>20407.192491</td>\n",
       "      <td>1753954.0</td>\n",
       "      <td>0.302408</td>\n",
       "      <td>250</td>\n",
       "      <td>132</td>\n",
       "      <td>0.000000</td>\n",
       "      <td>0.000000</td>\n",
       "      <td>0.000000</td>\n",
       "      <td>0.000000</td>\n",
       "      <td>False</td>\n",
       "      <td>38.711683</td>\n",
       "      <td>47.038077</td>\n",
       "    </tr>\n",
       "    <tr>\n",
       "      <th>103726</th>\n",
       "      <td>37.408680</td>\n",
       "      <td>163.055990</td>\n",
       "      <td>166558.094914</td>\n",
       "      <td>1.716220</td>\n",
       "      <td>0.076207</td>\n",
       "      <td>14374.385713</td>\n",
       "      <td>1612675.0</td>\n",
       "      <td>0.559480</td>\n",
       "      <td>250</td>\n",
       "      <td>136</td>\n",
       "      <td>0.000000</td>\n",
       "      <td>0.000000</td>\n",
       "      <td>0.000000</td>\n",
       "      <td>0.000000</td>\n",
       "      <td>False</td>\n",
       "      <td>38.711683</td>\n",
       "      <td>47.038077</td>\n",
       "    </tr>\n",
       "    <tr>\n",
       "      <th>103727</th>\n",
       "      <td>37.128683</td>\n",
       "      <td>212.218810</td>\n",
       "      <td>101893.725020</td>\n",
       "      <td>1.861354</td>\n",
       "      <td>0.148189</td>\n",
       "      <td>8130.808920</td>\n",
       "      <td>1740129.0</td>\n",
       "      <td>0.316645</td>\n",
       "      <td>250</td>\n",
       "      <td>138</td>\n",
       "      <td>0.000000</td>\n",
       "      <td>0.000000</td>\n",
       "      <td>0.000000</td>\n",
       "      <td>0.000000</td>\n",
       "      <td>False</td>\n",
       "      <td>38.711683</td>\n",
       "      <td>47.038077</td>\n",
       "    </tr>\n",
       "    <tr>\n",
       "      <th>103728</th>\n",
       "      <td>37.874145</td>\n",
       "      <td>139.675101</td>\n",
       "      <td>153312.880462</td>\n",
       "      <td>1.603169</td>\n",
       "      <td>0.081498</td>\n",
       "      <td>14805.623750</td>\n",
       "      <td>1664950.0</td>\n",
       "      <td>0.425608</td>\n",
       "      <td>250</td>\n",
       "      <td>141</td>\n",
       "      <td>0.000000</td>\n",
       "      <td>0.000000</td>\n",
       "      <td>0.000000</td>\n",
       "      <td>0.000000</td>\n",
       "      <td>False</td>\n",
       "      <td>38.711683</td>\n",
       "      <td>47.038077</td>\n",
       "    </tr>\n",
       "    <tr>\n",
       "      <th>103729</th>\n",
       "      <td>37.568539</td>\n",
       "      <td>192.105854</td>\n",
       "      <td>175353.863835</td>\n",
       "      <td>1.746187</td>\n",
       "      <td>0.021354</td>\n",
       "      <td>18325.030426</td>\n",
       "      <td>1944498.0</td>\n",
       "      <td>0.186705</td>\n",
       "      <td>250</td>\n",
       "      <td>89</td>\n",
       "      <td>0.000000</td>\n",
       "      <td>0.000000</td>\n",
       "      <td>0.000000</td>\n",
       "      <td>0.000000</td>\n",
       "      <td>False</td>\n",
       "      <td>38.711683</td>\n",
       "      <td>47.038077</td>\n",
       "    </tr>\n",
       "  </tbody>\n",
       "</table>\n",
       "<p>103730 rows × 17 columns</p>\n",
       "</div>"
      ],
      "text/plain": [
       "                 y           x           mass      size       ecc  \\\n",
       "0       110.223724  257.924148   10388.554271  2.050438  0.297139   \n",
       "1       108.947531  198.539162   15263.449743  1.838732  0.269567   \n",
       "2       102.420054  246.134577   18096.850797  2.280875  0.221035   \n",
       "3       100.442433  223.277370   11103.930889  1.888326  0.164916   \n",
       "4        99.253419  133.905398    7137.194396  1.990549  0.070683   \n",
       "...            ...         ...            ...       ...       ...   \n",
       "103725   35.124695  266.776001  189197.122041  1.517636  0.140053   \n",
       "103726   37.408680  163.055990  166558.094914  1.716220  0.076207   \n",
       "103727   37.128683  212.218810  101893.725020  1.861354  0.148189   \n",
       "103728   37.874145  139.675101  153312.880462  1.603169  0.081498   \n",
       "103729   37.568539  192.105854  175353.863835  1.746187  0.021354   \n",
       "\n",
       "              signal   raw_mass        ep  frame  particle        dy  \\\n",
       "0         675.446104   103008.0  0.042943      0         1  0.000000   \n",
       "1        1356.513291   110974.0  0.038816      0         2 -0.020280   \n",
       "2        1083.203698   126540.0  0.032678      0         4  0.409037   \n",
       "3         867.770450    85052.0  0.056482      0         5 -0.045341   \n",
       "4         497.903126    70002.0  0.076768      0         9 -0.133231   \n",
       "...              ...        ...       ...    ...       ...       ...   \n",
       "103725  20407.192491  1753954.0  0.302408    250       132  0.000000   \n",
       "103726  14374.385713  1612675.0  0.559480    250       136  0.000000   \n",
       "103727   8130.808920  1740129.0  0.316645    250       138  0.000000   \n",
       "103728  14805.623750  1664950.0  0.425608    250       141  0.000000   \n",
       "103729  18325.030426  1944498.0  0.186705    250        89  0.000000   \n",
       "\n",
       "              dx        fx        fy  in_bridge  x_nucleus  y_nucleus  \n",
       "0       0.000000  0.000000  0.000000      False  88.115143  77.732608  \n",
       "1      -0.123621 -0.199447 -0.013252      False  88.115143  77.732608  \n",
       "2       0.680514  2.575993  1.200419      False  88.115143  77.732608  \n",
       "3      -0.050747 -0.052458 -0.044302      False  88.115143  77.732608  \n",
       "4       0.049640  0.050750 -0.223149      False  88.115143  77.732608  \n",
       "...          ...       ...       ...        ...        ...        ...  \n",
       "103725  0.000000  0.000000  0.000000      False  38.711683  47.038077  \n",
       "103726  0.000000  0.000000  0.000000      False  38.711683  47.038077  \n",
       "103727  0.000000  0.000000  0.000000      False  38.711683  47.038077  \n",
       "103728  0.000000  0.000000  0.000000      False  38.711683  47.038077  \n",
       "103729  0.000000  0.000000  0.000000      False  38.711683  47.038077  \n",
       "\n",
       "[103730 rows x 17 columns]"
      ]
     },
     "execution_count": 26,
     "metadata": {},
     "output_type": "execute_result"
    }
   ],
   "source": [
    "t = pd1.append(pds[1:], ignore_index=True)\n",
    "t"
   ]
  },
  {
   "cell_type": "code",
   "execution_count": 8,
   "id": "35b990b0-7fd2-4de7-b90b-dc0206784dfa",
   "metadata": {},
   "outputs": [
    {
     "data": {
      "text/plain": [
       "[<matplotlib.lines.Line2D at 0x7f9a6f8156a0>]"
      ]
     },
     "execution_count": 8,
     "metadata": {},
     "output_type": "execute_result"
    },
    {
     "data": {
      "image/png": "[encoded data removed]",
      "text/plain": [
       "<Figure size 432x288 with 1 Axes>"
      ]
     },
     "metadata": {
      "needs_background": "light"
     },
     "output_type": "display_data"
    }
   ],
   "source": [
    "plt.plot(t[t[\"in_bridge\"]==True][\"fx\"])\n",
    "plt.plot(t[t[\"in_bridge\"]==0][\"fx\"])"
   ]
  },
  {
   "cell_type": "markdown",
   "id": "fb98a4ed-3618-48bf-89c9-168b8371d2c4",
   "metadata": {},
   "source": [
    "# dx dy fy fx Calculations"
   ]
  },
  {
   "cell_type": "code",
   "execution_count": 9,
   "id": "f66680c1-6c73-497d-89e6-a99b0b514e69",
   "metadata": {},
   "outputs": [],
   "source": [
    "def d_f_plots(d_in, d_out, name, unit):\n",
    "    # cleaning from extreme outliers\n",
    "    z_in = np.abs(stats.zscore(d_in))\n",
    "    z_out = np.abs(stats.zscore(d_out))\n",
    "    #only keep rows in dataframe with all z-scores less than absolute value of 3 \n",
    "    d_in_c = d_in[(z_in<3)]\n",
    "    d_out_c = d_out[(z_out<3)]\n",
    "    \n",
    "    fig, ax = plt.subplots()\n",
    "    ax.boxplot([d_in_c, d_out_c], showfliers=0)\n",
    "    ax.set_xticklabels([f\" inside \\n{np.round(d_in_c.mean(),3)}\", f\" outside \\n{np.round(d_out_c.mean(),3)}\"])\n",
    "    statres = stats.mannwhitneyu(d_in_c, d_out_c)\n",
    "    ax.set_title(f\"${name}$ in/out: {np.round(d_in_c.mean() / d_out_c.mean(),1)}  \\n p-value:{statres[1]}\")\n",
    "    ax.set_ylabel(f\"${name}$ [{unit}]\")\n",
    "    fig.savefig(f\"{name}_inside_ouside_barplot.png\", dpi=300)\n",
    "    fig.show()\n",
    "    print(statres)\n",
    "    \n",
    "    plt.show()\n",
    "    plt.hist([d_in_c, d_out_c], bins=30)\n",
    "\n",
    "    plt.title(f\"${name}$ in/out: {np.round(d_in_c.mean() / d_out_c.mean(),1)}  \\n p-value: {significantStr(statres[1])}\")\n",
    "    plt.yscale(\"log\")\n",
    "    plt.legend([\"d_in\", \"d_out\"])\n",
    "    plt.xlabel(f\"${name}$ [{unit}]\")\n",
    "    plt.ylabel(\"Occurrence\")\n",
    "    plt.savefig(f\"{name}_inside_ouside_hist.png\", dpi=300)\n",
    "    plt.show()"
   ]
  },
  {
   "cell_type": "markdown",
   "id": "c8de9969-8c89-46d8-bbfb-f56dfc8579d0",
   "metadata": {},
   "source": [
    "## dx check"
   ]
  },
  {
   "cell_type": "code",
   "execution_count": 10,
   "id": "5db47adb-03f9-46d1-9c24-47c32935b1bc",
   "metadata": {},
   "outputs": [
    {
     "name": "stdout",
     "output_type": "stream",
     "text": [
      "MannwhitneyuResult(statistic=1402524471.0, pvalue=2.3222783825455243e-142)\n"
     ]
    },
    {
     "data": {
      "image/png": "[encoded data removed]",
      "text/plain": [
       "<Figure size 432x288 with 1 Axes>"
      ]
     },
     "metadata": {
      "needs_background": "light"
     },
     "output_type": "display_data"
    },
    {
     "data": {
      "image/png": "[encoded data removed]",
      "text/plain": [
       "<Figure size 432x288 with 1 Axes>"
      ]
     },
     "metadata": {
      "needs_background": "light"
     },
     "output_type": "display_data"
    }
   ],
   "source": [
    "d_in = abs(t[t[\"in_bridge\"]==True][\"dx\"])\n",
    "d_out =  abs(t[t[\"in_bridge\"]==False][\"dx\"])\n",
    "\n",
    "d_f_plots(d_in, d_out, \"dx\", \"µm\")"
   ]
  },
  {
   "cell_type": "markdown",
   "id": "d76f7812-8398-41c3-bb3a-1f9912a77384",
   "metadata": {},
   "source": [
    "## dy"
   ]
  },
  {
   "cell_type": "code",
   "execution_count": 11,
   "id": "e82b6b5c-39a1-45d9-85bf-58c9556ff4df",
   "metadata": {},
   "outputs": [
    {
     "name": "stdout",
     "output_type": "stream",
     "text": [
      "MannwhitneyuResult(statistic=1472659670.0, pvalue=0.0)\n"
     ]
    },
    {
     "data": {
      "image/png": "[encoded data removed]",
      "text/plain": [
       "<Figure size 432x288 with 1 Axes>"
      ]
     },
     "metadata": {
      "needs_background": "light"
     },
     "output_type": "display_data"
    },
    {
     "data": {
      "image/png": "[encoded data removed]",
      "text/plain": [
       "<Figure size 432x288 with 1 Axes>"
      ]
     },
     "metadata": {
      "needs_background": "light"
     },
     "output_type": "display_data"
    }
   ],
   "source": [
    "d_in_y = abs(t[t[\"in_bridge\"]==True][\"dy\"])\n",
    "d_out_y =  abs(t[t[\"in_bridge\"]==False][\"dy\"])\n",
    "\n",
    "d_f_plots(d_in_y, d_out_y, \"dy\", \"µm\")"
   ]
  },
  {
   "cell_type": "markdown",
   "id": "9379bdee-1629-46fb-a06e-52f6d41424f1",
   "metadata": {},
   "source": [
    "## fy"
   ]
  },
  {
   "cell_type": "code",
   "execution_count": 12,
   "id": "b6e2c2db-e3b7-4a34-a167-2851da257459",
   "metadata": {},
   "outputs": [
    {
     "name": "stdout",
     "output_type": "stream",
     "text": [
      "MannwhitneyuResult(statistic=1491218848.0, pvalue=0.0)\n"
     ]
    },
    {
     "data": {
      "image/png": "[encoded data removed]",
      "text/plain": [
       "<Figure size 432x288 with 1 Axes>"
      ]
     },
     "metadata": {
      "needs_background": "light"
     },
     "output_type": "display_data"
    },
    {
     "data": {
      "image/png": "[encoded data removed]",
      "text/plain": [
       "<Figure size 432x288 with 1 Axes>"
      ]
     },
     "metadata": {
      "needs_background": "light"
     },
     "output_type": "display_data"
    }
   ],
   "source": [
    "f_in = abs(t[t[\"in_bridge\"]==True][\"fy\"])\n",
    "f_out =  abs(t[t[\"in_bridge\"]==False][\"fy\"])\n",
    "\n",
    "d_f_plots(f_in, f_out, \"fy\", \"nN\")"
   ]
  },
  {
   "cell_type": "markdown",
   "id": "315aaa08-91ec-4b7b-ae87-e1e27c5a4a4e",
   "metadata": {},
   "source": [
    "## fx"
   ]
  },
  {
   "cell_type": "code",
   "execution_count": 13,
   "id": "5e04ef2e-8d19-4700-bfaf-4307887719e8",
   "metadata": {},
   "outputs": [
    {
     "name": "stdout",
     "output_type": "stream",
     "text": [
      "MannwhitneyuResult(statistic=1410652981.0, pvalue=7.83170521096188e-111)\n"
     ]
    },
    {
     "data": {
      "image/png": "[encoded data removed]",
      "text/plain": [
       "<Figure size 432x288 with 1 Axes>"
      ]
     },
     "metadata": {
      "needs_background": "light"
     },
     "output_type": "display_data"
    },
    {
     "data": {
      "image/png": "[encoded data removed]",
      "text/plain": [
       "<Figure size 432x288 with 1 Axes>"
      ]
     },
     "metadata": {
      "needs_background": "light"
     },
     "output_type": "display_data"
    }
   ],
   "source": [
    "f_in = abs(t[t[\"in_bridge\"]==True][\"fx\"])\n",
    "f_out =  abs(t[t[\"in_bridge\"]==False][\"fx\"])\n",
    "\n",
    "\n",
    "d_f_plots(f_in, f_out, \"fx\", \"nN\")"
   ]
  },
  {
   "cell_type": "markdown",
   "id": "06786cef-6c46-41c9-a379-3dba07762833",
   "metadata": {},
   "source": [
    "# frction coefficient"
   ]
  },
  {
   "cell_type": "code",
   "execution_count": 14,
   "id": "7785a01c-c47f-4b17-b9c2-4d4f6d4c3b58",
   "metadata": {},
   "outputs": [
    {
     "data": {
      "text/plain": [
       "14.804109199895837"
      ]
     },
     "execution_count": 14,
     "metadata": {},
     "output_type": "execute_result"
    }
   ],
   "source": [
    "d_in_y = abs(t[t[\"in_bridge\"]==True][\"dy\"])\n",
    "d_in_x =  abs(t[t[\"in_bridge\"]==True][\"dx\"])\n",
    "\n",
    "div = (d_in_y/d_in_x).values\n",
    "\n",
    "np.nanmean(div) # ignore the NaNs\n",
    "#np.nanstd(div)"
   ]
  },
  {
   "cell_type": "code",
   "execution_count": 15,
   "id": "f27ffee0-cbee-438b-8c39-1ca924cf6bda",
   "metadata": {},
   "outputs": [
    {
     "name": "stdout",
     "output_type": "stream",
     "text": [
      "51.22446752668498\n"
     ]
    },
    {
     "data": {
      "image/png": "[encoded data removed]",
      "text/plain": [
       "<Figure size 432x288 with 1 Axes>"
      ]
     },
     "metadata": {
      "needs_background": "light"
     },
     "output_type": "display_data"
    }
   ],
   "source": [
    "r2d = 360/(2*np.pi) #rad to degree \n",
    "plt.hist(np.arctan(div)*r2d)\n",
    "\n",
    "print(np.nanmean(np.arctan(div))*r2d)"
   ]
  },
  {
   "cell_type": "code",
   "execution_count": 16,
   "id": "6d7f241c-5d7c-4e33-9d6e-80ec9a383e50",
   "metadata": {},
   "outputs": [
    {
     "name": "stdout",
     "output_type": "stream",
     "text": [
      "74.60380257896814\n"
     ]
    },
    {
     "data": {
      "text/plain": [
       "15140"
      ]
     },
     "execution_count": 16,
     "metadata": {},
     "output_type": "execute_result"
    },
    {
     "data": {
      "image/png": "[encoded data removed]",
      "text/plain": [
       "<Figure size 432x288 with 1 Axes>"
      ]
     },
     "metadata": {
      "needs_background": "light"
     },
     "output_type": "display_data"
    }
   ],
   "source": [
    "div_middle = (d_in_y[d_in_y>0.3] / d_in_x[d_in_y>0.3]).values\n",
    "plt.hist(np.arctan(div_middle)*r2d)\n",
    "print(np.nanmedian(np.arctan(div_middle))*r2d)\n",
    "len(div_middle)"
   ]
  },
  {
   "cell_type": "code",
   "execution_count": 17,
   "id": "1c63238b-ce29-4118-9a7c-5f737d4c7e82",
   "metadata": {},
   "outputs": [
    {
     "name": "stdout",
     "output_type": "stream",
     "text": [
      "79.57609100822829\n",
      "69.8525810495595\n",
      "79.39400761063551\n",
      "55.93203216938123\n",
      "64.1856514412314\n",
      "67.31130044148055\n",
      "67.6190818508601\n",
      "median = 78 std = 17 degrees\n",
      "0.16441299552546065 -0.5383401158660024 sem: sigma/root n: 0.2393158145623064\n"
     ]
    },
    {
     "data": {
      "image/png": "[encoded data removed]",
      "text/plain": [
       "<Figure size 432x288 with 1 Axes>"
      ]
     },
     "metadata": {
      "needs_background": "light"
     },
     "output_type": "display_data"
    }
   ],
   "source": [
    "div_results = np.array([])\n",
    "for i in range(len(pds)):\n",
    "    pd = pds[i]\n",
    "    xmin, xmax = middle_ranges[i]\n",
    "    d_middle_y = abs(pd[(pd[\"x\"]<xmax) & (pd[\"x\"]>xmin)][\"dy\"])\n",
    "    d_middle_x = abs(pd[(pd[\"x\"]<xmax) & (pd[\"x\"]>xmin)][\"dx\"])\n",
    "    minlen = 0.5\n",
    "    when_large_disp = (d_middle_y > minlen) | (d_middle_x > minlen)\n",
    "    when_large_disp_y = (d_middle_y > minlen) \n",
    "    div = (d_middle_y[when_large_disp_y]/d_middle_x[when_large_disp_y]).values\n",
    "    print(np.nanmean(np.arctan(div)*r2d))\n",
    "    div_results = np.concatenate((div_results, div), axis=None)\n",
    "\n",
    "plt.hist(np.arctan(div_results)*r2d)\n",
    "median = np.nanmedian(np.arctan(div_results)*r2d)\n",
    "std = np.nanstd(np.arctan(div_results)*r2d)\n",
    "plt.ylabel(f\"# displacement arrows\")\n",
    "plt.xlabel(f\"angle of arrow [deg]\")\n",
    "plt.vlines(np.nanmedian(np.arctan(div_results)*r2d), ymin=0, ymax=3000, color=\"orange\", linewidth=5, label=f\"median = {int(np.round(median, -1))} $\\pm$ {int(np.round(std, -1))} degrees\")\n",
    "plt.legend()\n",
    "plt.savefig(\"displacement_arrows_angles.png\", dpi=400)\n",
    "print(f\"median = {int(np.round(median))} std = {int(np.round(std))} degrees\")\n",
    "\n",
    "alpha, beta = 100/0.69, 100/0.74\n",
    "mu = (beta/alpha) / np.tan(80*2*np.pi/360)\n",
    "mu1 = (beta/alpha) / np.tan(90*2*np.pi/360)\n",
    "mu2 = (beta/alpha) / np.tan(60*2*np.pi/360)\n",
    "print(mu, mu1-mu2, f\"sem: sigma/root n: {std/(np.sum(~np.isnan(div_results)))**0.5}\")"
   ]
  },
  {
   "cell_type": "code",
   "execution_count": 18,
   "id": "a58d5382-26dc-41b7-bb14-1dc0e04aaffb",
   "metadata": {},
   "outputs": [
    {
     "data": {
      "text/plain": [
       "0.9324324324324325"
      ]
     },
     "execution_count": 18,
     "metadata": {},
     "output_type": "execute_result"
    }
   ],
   "source": [
    "alpha, beta = 100/0.69, 100/0.74\n",
    "mu = (beta/alpha) / np.tan(45*2*np.pi/360)\n",
    "mu"
   ]
  },
  {
   "cell_type": "code",
   "execution_count": 19,
   "id": "e10102a3-5e3e-4096-a65f-e3e3e016f172",
   "metadata": {},
   "outputs": [
    {
     "name": "stdout",
     "output_type": "stream",
     "text": [
      "68.85518905139848\n",
      "median = 77.39670898864965 std = 21.287581890424228 degrees, sem: 0.32349282610955243\n",
      "first quant = 59.83429857526376 median= 77.39670898864965 third wuant = 84.22688378478773\n"
     ]
    },
    {
     "data": {
      "image/png": "[encoded data removed]",
      "text/plain": [
       "<Figure size 432x288 with 1 Axes>"
      ]
     },
     "metadata": {
      "needs_background": "light"
     },
     "output_type": "display_data"
    }
   ],
   "source": [
    "div_results = np.array([])\n",
    "for i in range(1):\n",
    "    pd = pds[i]\n",
    "    xmin, xmax = middle_ranges[i]\n",
    "    d_middle_y = abs(pd[(pd[\"x\"]<xmax) & (pd[\"x\"]>xmin)][\"dy\"])\n",
    "    d_middle_x = abs(pd[(pd[\"x\"]<xmax) & (pd[\"x\"]>xmin)][\"dx\"])\n",
    "    div = (d_middle_y/d_middle_x).values\n",
    "    print(np.nanmean(np.arctan(div)*r2d))\n",
    "    div_results = np.concatenate((div_results, div), axis=None)\n",
    "\n",
    "    \n",
    "angles = np.arctan((div_results))*r2d\n",
    "angles = angles[~(np.isnan(angles))]\n",
    "plt.hist(np.arctan(div_results)*r2d)\n",
    "plt.ylabel(f\"# displacement arrows\")\n",
    "plt.xlabel(f\"angle of arrow [deg]\")\n",
    "plt.savefig(\"displacement_arrows_angles_pd1.png\", dpi=400)\n",
    "print(f\"median = {np.nanmedian(np.arctan(div_results)*r2d)} std = {np.nanstd(np.arctan(div_results)*r2d)} degrees, sem: {std/(np.sum(~np.isnan(div_results)))**0.5}\")\n",
    "print(f\"first quant = {np.percentile(angles, 25)} median= {np.percentile(angles, 50)} third wuant = {np.percentile(angles, 75)}\")"
   ]
  },
  {
   "cell_type": "code",
   "execution_count": 20,
   "id": "6bf7c740-9de5-4a7a-b761-052e962fc1b9",
   "metadata": {},
   "outputs": [
    {
     "data": {
      "image/png": "[encoded data removed]",
      "text/plain": [
       "<Figure size 432x288 with 1 Axes>"
      ]
     },
     "metadata": {
      "needs_background": "light"
     },
     "output_type": "display_data"
    }
   ],
   "source": [
    "plt.boxplot(angles, showfliers=0)\n",
    "plt.xticks([])\n",
    "plt.xlabel(f\"Median\\n${np.int(np.round(np.percentile(angles, 50),-1))}^\\circ$\")\n",
    "plt.ylabel(f\"angle of arrow [deg]\")\n",
    "plt.savefig(\"displacement_arrows_angles_boxplot.png\", dpi=400)\n",
    "plt.savefig(\"displacement_arrows_angles_boxplot.pdf\", dpi=400)"
   ]
  },
  {
   "cell_type": "markdown",
   "id": "a4d64890-fc8f-4523-aecc-01800d7d9018",
   "metadata": {},
   "source": [
    "# mean speed of cell nucleus in middle of bridge\n",
    "\n",
    "not yet worked out"
   ]
  },
  {
   "cell_type": "code",
   "execution_count": 25,
   "id": "287e51f9-e905-49c6-a7af-2f85448bb578",
   "metadata": {},
   "outputs": [
    {
     "name": "stdout",
     "output_type": "stream",
     "text": [
      "mean= 0.257489964532663, median = 0.0 std = 1.2113286497962883 µm/min, sem: 0.021380087234647856\n"
     ]
    },
    {
     "data": {
      "image/png": "[encoded data removed]",
      "text/plain": [
       "<Figure size 432x288 with 1 Axes>"
      ]
     },
     "metadata": {
      "needs_background": "light"
     },
     "output_type": "display_data"
    }
   ],
   "source": [
    "dif_results = np.array([])\n",
    "for i in range(1):\n",
    "    pd = pds[i]\n",
    "    xmin, xmax = middle_ranges[i]\n",
    "    nucl_x = abs(pd[(pd[\"x\"]<xmax) & (pd[\"x\"]>xmin)][\"x_nucleus\"])\n",
    "    dif = np.abs(np.diff(nucl_x.values))[1:]\n",
    "    #print(np.nanmean(np.arctan(div)*r2d))\n",
    "    dif_results = np.concatenate((dif_results, dif), axis=None)\n",
    "\n",
    "dif_results *= 2 # for µm/min instead of µm/2min\n",
    "dif_results = dif_results[np.where(dif_results<10,True,False)]\n",
    "plt.hist(dif_results, bins=30)\n",
    "#plt.xlim([0, 20])\n",
    "plt.ylabel(f\"# displacement arrows\")\n",
    "plt.xlabel(f\"speed of cell [µm/2min]\")\n",
    "plt.savefig(\"displacement_arrows_angles_pd1.png\", dpi=400)\n",
    "print(f\"mean= {np.nanmean(dif_results)}, median = {np.nanmedian(dif_results)} std = {np.nanstd(dif_results)} µm/min, sem: {np.nanstd(dif_results)/(np.sum(~np.isnan(dif_results)))**0.5}\")"
   ]
  },
  {
   "cell_type": "code",
   "execution_count": 22,
   "id": "97e49862-ba2f-4695-8b17-eceb87d77c3b",
   "metadata": {},
   "outputs": [
    {
     "data": {
      "text/plain": [
       "[<matplotlib.lines.Line2D at 0x7f9a6f51a670>]"
      ]
     },
     "execution_count": 22,
     "metadata": {},
     "output_type": "execute_result"
    },
    {
     "data": {
      "image/png": "[encoded data removed]",
      "text/plain": [
       "<Figure size 432x288 with 1 Axes>"
      ]
     },
     "metadata": {
      "needs_background": "light"
     },
     "output_type": "display_data"
    }
   ],
   "source": [
    "plt.plot(dif_results)"
   ]
  },
  {
   "cell_type": "code",
   "execution_count": null,
   "id": "e7fc9560-1f2b-438b-8349-ebefc648d461",
   "metadata": {},
   "outputs": [],
   "source": []
  },
  {
   "cell_type": "code",
   "execution_count": null,
   "id": "7e350478-970f-4c40-8c9a-4af4a157b809",
   "metadata": {},
   "outputs": [],
   "source": []
  }
 ],
 "metadata": {
  "kernelspec": {
   "display_name": "Python 3",
   "language": "python",
   "name": "python3"
  },
  "language_info": {
   "codemirror_mode": {
    "name": "ipython",
    "version": 3
   },
   "file_extension": ".py",
   "mimetype": "text/x-python",
   "name": "python",
   "nbconvert_exporter": "python",
   "pygments_lexer": "ipython3",
   "version": "3.9.7"
  }
 },
 "nbformat": 4,
 "nbformat_minor": 5
}
